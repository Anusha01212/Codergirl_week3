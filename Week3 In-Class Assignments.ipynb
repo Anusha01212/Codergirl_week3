{
 "cells": [
  {
   "cell_type": "code",
   "execution_count": 5,
   "id": "0dad4758",
   "metadata": {},
   "outputs": [
    {
     "name": "stdout",
     "output_type": "stream",
     "text": [
      "8\n",
      "-2\n",
      "15\n",
      "6\n",
      "Zero\n",
      "9\n"
     ]
    }
   ],
   "source": [
    "def arthmetic(a, b):#created a function and it accepting 2 values\n",
    "    if a+b == 0: #checking if the statement is equal to zero , if not equal to 0 then gave else statement to add the numbers \n",
    "        print('Zero') \n",
    "    else:\n",
    "        print(a+b)#checking if the statement is equal to zero , if not equal to 0 then gave else statement to show the difference of numbers \n",
    "    if a-b == 0:\n",
    "        print('Zero') \n",
    "    else:\n",
    "        print(a-b)  \n",
    "    if a*b == 0:#checking if the statement is equal to zero , if not equal to 0 then gave else statement to product the numbers \n",
    "        print('Zero') \n",
    "    else:\n",
    "        print(a*b)\n",
    "\n",
    "arthmetic(3, 5)# calling out numbers \n",
    "arthmetic(3, 3)"
   ]
  },
  {
   "cell_type": "code",
   "execution_count": null,
   "id": "e134fb4b",
   "metadata": {},
   "outputs": [],
   "source": []
  }
 ],
 "metadata": {
  "kernelspec": {
   "display_name": "Python 3",
   "language": "python",
   "name": "python3"
  },
  "language_info": {
   "codemirror_mode": {
    "name": "ipython",
    "version": 3
   },
   "file_extension": ".py",
   "mimetype": "text/x-python",
   "name": "python",
   "nbconvert_exporter": "python",
   "pygments_lexer": "ipython3",
   "version": "3.8.8"
  }
 },
 "nbformat": 4,
 "nbformat_minor": 5
}
