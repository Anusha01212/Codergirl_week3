{
 "cells": [
  {
   "cell_type": "markdown",
   "metadata": {},
   "source": [
    "### Homework 3 Numpy Arrays\n",
    "\n",
    "1. Open `cars.csv` in jupyter and look at the data. (Double click `cars.csv` to open in a new tab).\n",
    "2. We are converting each **column** into an numpy array.\n",
    "3. Notice we have text, integer and float data. \n",
    "4. Take care not to overwrite your starter code."
   ]
  },
  {
   "cell_type": "code",
   "execution_count": 3,
   "metadata": {},
   "outputs": [],
   "source": [
    "#Starter code. Do NOT modify this cell\n",
    "import pandas as pd\n",
    "import numpy as np\n",
    "\n",
    "# Read in dataset\n",
    "df = pd.read_csv('cars.csv',delimiter=';')\n",
    "\n",
    "# Convert each column to an np.array\n",
    "car = df.Car.to_numpy()\n",
    "mpg = df.MPG.to_numpy()\n",
    "cylinders = df.Cylinders.to_numpy()\n",
    "displacement = df.Displacement.to_numpy()\n",
    "horsepower = df.Horsepower.to_numpy()\n",
    "weight = df.Weight.to_numpy()\n",
    "acceleration = df.Acceleration.to_numpy()\n",
    "model = df.Model.to_numpy()\n",
    "origin = df.Origin.to_numpy()\n",
    "\n",
    "# create an array of headers\n",
    "headers = np.array(['Car', 'MPG', 'Cylinders', 'Displacement', 'Horsepower', 'Weight','Acceleration', 'Model', 'Origin'])\n"
   ]
  },
  {
   "cell_type": "markdown",
   "metadata": {},
   "source": [
    "1. How can you get help on `np.array`?\n",
    "\n",
    "Call dir() on np.array.\n",
    "\n",
    "Call dir() on car.\n",
    "\n",
    "Note the difference. `car` has methods and attributes we can use."
   ]
  },
  {
   "cell_type": "code",
   "execution_count": null,
   "metadata": {},
   "outputs": [],
   "source": [
    "#We can use help function which is a built-in function in numpy \n",
    "help(np.array)\n",
    "#dir(np.array) showing the attributes and methods within the array\n",
    "dir(np.array)\n",
    "#dir(car) showing the methods we can use for car. Noticed that dir(np.array)and dir(car) doesn't have the same attributes or methods , they have their own methods and attributes.\n",
    "dir(car)"
   ]
  },
  {
   "cell_type": "markdown",
   "metadata": {},
   "source": [
    " 2.What are the numpy datatypes for the `car`,`mpg`, `horsepower` and `origin` arrays? (Hint: Not `type(car)` and use `print()` to print the numpy type.)"
   ]
  },
  {
   "cell_type": "code",
   "execution_count": 7,
   "metadata": {},
   "outputs": [
    {
     "name": "stdout",
     "output_type": "stream",
     "text": [
      "object\n",
      "float64\n",
      "float64\n",
      "object\n"
     ]
    }
   ],
   "source": [
    "print(car.dtype)\n",
    "print(mpg.dtype)\n",
    "print(horsepower.dtype)\n",
    "print(origin.dtype)"
   ]
  },
  {
   "cell_type": "markdown",
   "metadata": {},
   "source": [
    "3.`numpy` is often imported as `np`. What is this action called? Why might you do this? "
   ]
  },
  {
   "cell_type": "code",
   "execution_count": null,
   "metadata": {},
   "outputs": [],
   "source": [
    "#we are giving an alias as np to numpy , it is easy to call everytime we run the code "
   ]
  },
  {
   "cell_type": "markdown",
   "metadata": {},
   "source": [
    "4.Each of the arrays (cars, mpg, cylinders, etc..) has how many dimensions? Show how to find this using code. "
   ]
  },
  {
   "cell_type": "code",
   "execution_count": 3,
   "metadata": {},
   "outputs": [
    {
     "data": {
      "text/plain": [
       "1"
      ]
     },
     "execution_count": 3,
     "metadata": {},
     "output_type": "execute_result"
    }
   ],
   "source": [
    "car.ndim"
   ]
  },
  {
   "cell_type": "markdown",
   "metadata": {},
   "source": [
    "5.Show how to:\n",
    "\n",
    "- multiply the `mpg` array by 12.\n",
    "- divide the `mpg` array by 3.\n",
    "- raise the `mpg` array to the power of 4.\n",
    "- take the square root of the `mpg` array."
   ]
  },
  {
   "cell_type": "code",
   "execution_count": 1,
   "metadata": {
    "scrolled": true
   },
   "outputs": [],
   "source": [
    "#print(mpg * 12)\n",
    "#print(mpg / 3)\n",
    "#print(mpg ** 4)\n",
    "#print(np.sqrt(mpg))"
   ]
  },
  {
   "cell_type": "markdown",
   "metadata": {},
   "source": [
    "6.What is the ___ of `horsepower`?\n",
    "- sum\n",
    "- min\n",
    "- max\n",
    "- median\n",
    "- Optional: mode (May need to google help)"
   ]
  },
  {
   "cell_type": "code",
   "execution_count": 13,
   "metadata": {},
   "outputs": [
    {
     "name": "stdout",
     "output_type": "stream",
     "text": [
      "42033.0\n",
      "0.0\n",
      "230.0\n",
      "93.5\n"
     ]
    }
   ],
   "source": [
    "print(np.sum(horsepower))\n",
    "print(np.min(horsepower))\n",
    "print(np.max(horsepower))\n",
    "print(np.median(horsepower))"
   ]
  },
  {
   "cell_type": "markdown",
   "metadata": {},
   "source": [
    "7.Select a subset of `acceleration`. \n",
    "\n",
    "- Select only the first 5 elements.\n",
    "- Select every other element (new selection)."
   ]
  },
  {
   "cell_type": "code",
   "execution_count": 19,
   "metadata": {},
   "outputs": [
    {
     "data": {
      "text/plain": [
       "array([12. , 11.5, 11. , 12. , 10.5])"
      ]
     },
     "execution_count": 19,
     "metadata": {},
     "output_type": "execute_result"
    }
   ],
   "source": [
    "acceleration[:5]"
   ]
  },
  {
   "cell_type": "code",
   "execution_count": 17,
   "metadata": {},
   "outputs": [
    {
     "data": {
      "text/plain": [
       "array([10. ,  9. ,  8.5, 10. ,  8.5, 17.5, 11.5, 11. , 10.5, 11. , 10. ,\n",
       "        8. ,  8. ,  9.5, 10. , 15. , 15.5, 15.5, 16. , 14.5, 20.5, 17.5,\n",
       "       14.5, 17.5, 12.5, 15. , 14. , 15. , 13.5, 18.5, 14.5, 15.5, 14. ,\n",
       "       19. , 20. , 13. , 15.5, 15.5, 15.5, 15.5, 12. , 11.5, 13.5, 13. ,\n",
       "       11.5, 12. , 12. , 13.5, 19. , 15. , 14.5, 14. , 14. , 19.5, 14.5,\n",
       "       19. , 18. , 19. , 20.5, 15.5, 17. , 23.5, 19.5, 16.5, 12. , 12. ,\n",
       "       13.5, 13. , 11.5, 11. , 13.5, 13.5, 12.5, 13.5, 12.5, 14. , 16. ,\n",
       "       14. , 14.5, 18. , 19.5, 18. , 16. , 17. , 14.5, 15. , 16.5, 13. ,\n",
       "       11.5, 13. , 14.5, 12.5, 11.5, 12. , 13. , 14.5, 11. , 11. , 11. ,\n",
       "       16.5, 18. , 16. , 16.5, 16. , 21. , 14. , 12.5, 13. , 12.5, 15. ,\n",
       "       19. , 19.5, 16.5, 13.5, 18.5, 14. , 15.5, 13. ,  9.5, 19.5, 15.5,\n",
       "       14. , 15.5, 11. , 14. , 13.5, 11. , 16.5, 17. , 16. , 17. , 19. ,\n",
       "       16.5, 21. , 17. , 17. , 18. , 16.5, 14. , 14.5, 13.5, 16. , 15.5,\n",
       "       16.5, 15.5, 14.5, 16.5, 19. , 14.5, 15.5, 14. , 15. , 15.5, 16. ,\n",
       "       16. , 16. , 21. , 19.5, 11.5, 14. , 14.5, 13.5, 21. , 18.5, 19. ,\n",
       "       19. , 15. , 13.5, 12. , 16. , 17. , 16. , 18.5, 13.5, 16.5, 17. ,\n",
       "       14.5, 14. , 17. , 15. , 17. , 14.5, 13.5, 17.5, 15.5, 16.9, 14.9,\n",
       "       17.7, 15.3, 13. , 13. , 13.9, 12.8, 15.4, 14.5, 17.6, 17.6, 22.2,\n",
       "       22.1, 14.2, 17.4, 17.7, 21. , 16.2, 17.8, 12.2, 17. , 16.4, 13.6,\n",
       "       15.7, 13.2, 21.9, 15.5, 16.7, 12.1, 12. , 15. , 14. , 18.5, 14.8,\n",
       "       18.6, 15.5, 16.8, 12.5, 19. , 13.7, 14.9, 16.4, 16.9, 17.7, 19. ,\n",
       "       11.1, 11.4, 12.2, 14.5, 14.5, 16. , 18.2, 15.8, 17. , 15.9, 16.4,\n",
       "       14.1, 14.5, 12.8, 13.5, 21.5, 14.4, 19.4, 18.6, 16.4, 15.5, 13.2,\n",
       "       12.8, 19.2, 18.2, 15.8, 15.4, 17.2, 17.2, 15.8, 16.7, 18.7, 15.1,\n",
       "       13.2, 13.4, 11.2, 13.7, 16.5, 14.2, 14.7, 14.5, 14.8, 16.7, 17.6,\n",
       "       14.9, 15.9, 13.6, 15.7, 15.8, 14.9, 16.6, 15.4, 18.2, 17.3, 18.2,\n",
       "       16.6, 15.4, 13.4, 13.2, 15.2, 14.9, 14.3, 15. , 13. , 14. , 15.2,\n",
       "       14.4, 15. , 20.1, 17.4, 24.8, 22.2, 13.2, 14.9, 19.2, 14.7, 16. ,\n",
       "       11.3, 12.9, 13.2, 14.7, 18.8, 15.5, 16.4, 16.5, 18.1, 20.1, 18.7,\n",
       "       15.8, 15.5, 17.5, 15. , 15.2, 17.9, 14.4, 19.2, 21.7, 23.7, 19.9,\n",
       "       21.8, 13.8, 17.3, 18. , 15.3, 11.4, 12.5, 15.1, 14.3, 17. , 15.7,\n",
       "       16.4, 14.4, 12.6, 12.9, 16.9, 16.4, 16.1, 17.8, 19.4, 17.3, 16. ,\n",
       "       14.9, 16.2, 20.7, 14.2, 15.8, 14.4, 16.8, 14.8, 18.3, 20.4, 15.4,\n",
       "       19.6, 12.6, 13.8, 15.8, 19. , 17.1, 16.6, 19.6, 18.6, 18. , 16.2,\n",
       "       16. , 18. , 16.4, 20.5, 15.3, 18.2, 17.6, 14.7, 17.3, 14.5, 14.5,\n",
       "       16.9, 15. , 15.7, 16.2, 16.4, 17. , 14.5, 14.7, 13.9, 13. , 17.3,\n",
       "       15.6, 24.6, 11.6, 18.6])"
      ]
     },
     "execution_count": 17,
     "metadata": {},
     "output_type": "execute_result"
    }
   ],
   "source": [
    "acceleration[5:-1]"
   ]
  },
  {
   "cell_type": "markdown",
   "metadata": {},
   "source": [
    "8.Show how to select the number `99` in the array below. "
   ]
  },
  {
   "cell_type": "code",
   "execution_count": 24,
   "metadata": {},
   "outputs": [
    {
     "data": {
      "text/plain": [
       "99"
      ]
     },
     "execution_count": 24,
     "metadata": {},
     "output_type": "execute_result"
    }
   ],
   "source": [
    "select_99 = np.array([[1,2,3],\n",
    "                      [4,5,99]])\n",
    "select_99[1,2]"
   ]
  },
  {
   "cell_type": "markdown",
   "metadata": {},
   "source": [
    "9.Select the last element in each subarray (do this with one operation.)"
   ]
  },
  {
   "cell_type": "code",
   "execution_count": 22,
   "metadata": {},
   "outputs": [],
   "source": [
    "select_more = np.array([[1,2,3],\n",
    "                      [4,5,6],\n",
    "                      [7,8,9]])\n",
    "# returns array([3, 6, 9])\n",
    "\n"
   ]
  },
  {
   "cell_type": "code",
   "execution_count": 31,
   "metadata": {},
   "outputs": [
    {
     "data": {
      "text/plain": [
       "array([3, 6, 9])"
      ]
     },
     "execution_count": 31,
     "metadata": {},
     "output_type": "execute_result"
    }
   ],
   "source": [
    "select_more[:,2]"
   ]
  },
  {
   "cell_type": "markdown",
   "metadata": {},
   "source": [
    "10.Use the built-in `np.lookfor()` function to search for `'log'`.\n",
    "\n",
    "Use the function you find and apply it to `mpg`."
   ]
  },
  {
   "cell_type": "code",
   "execution_count": 43,
   "metadata": {},
   "outputs": [
    {
     "data": {
      "text/plain": [
       "23.051231527093595"
      ]
     },
     "execution_count": 43,
     "metadata": {},
     "output_type": "execute_result"
    }
   ],
   "source": [
    "#here we are taking mean function and checking mean of mpg \n",
    "np.mean(mpg)\n"
   ]
  },
  {
   "cell_type": "markdown",
   "metadata": {},
   "source": [
    "11.You your google skills to find the unique items in `origin`. (This may not have been covered in the readings.)"
   ]
  },
  {
   "cell_type": "code",
   "execution_count": 27,
   "metadata": {},
   "outputs": [
    {
     "data": {
      "text/plain": [
       "array([0, 5, 6])"
      ]
     },
     "execution_count": 27,
     "metadata": {},
     "output_type": "execute_result"
    }
   ],
   "source": [
    "#type(origin)\n",
    "origin_test = [0,6,5,0,6,5]\n",
    "np.unique(origin_test)"
   ]
  },
  {
   "cell_type": "markdown",
   "metadata": {},
   "source": [
    "12.\n",
    "- Create a 2D array and print its shape as well as ndim. (Any shape is fine)\n",
    "\n",
    "- Create a 3D array and print its shape as well as ndim.\n",
    "\n",
    "- Create a 4D array and print its shape as well as ndim. *It's hard to visualize 4-Dimensions but numpy can do it with ease!*"
   ]
  },
  {
   "cell_type": "code",
   "execution_count": 37,
   "metadata": {},
   "outputs": [
    {
     "name": "stdout",
     "output_type": "stream",
     "text": [
      "(2, 3)\n",
      "2\n",
      "3\n",
      "(1, 3, 3)\n",
      "4\n",
      "(1, 1, 4, 2)\n"
     ]
    }
   ],
   "source": [
    "#2D array\n",
    "a = np.array([[1,2,3],[4,5,6]])\n",
    "print(a.shape)\n",
    "print(a.ndim)\n",
    "#3D array\n",
    "b = np.array([[[2,3,4],[5,6,7],[8,9,10]]])\n",
    "print(b.ndim)\n",
    "print(b.shape)\n",
    "#4D array\n",
    "c = np.array([[[[1,2],[3,4],[5,6],[7,8]]]])\n",
    "print(c.ndim)\n",
    "print(c.shape)"
   ]
  },
  {
   "cell_type": "markdown",
   "metadata": {},
   "source": [
    "13.Use boolean indexing to create an array of `True/False` using `origin` and the value 'US'."
   ]
  },
  {
   "cell_type": "code",
   "execution_count": 32,
   "metadata": {
    "scrolled": true
   },
   "outputs": [
    {
     "data": {
      "text/plain": [
       "array([ True,  True,  True,  True,  True,  True,  True,  True,  True,\n",
       "        True, False,  True,  True,  True,  True,  True,  True,  True,\n",
       "        True,  True, False,  True,  True,  True, False, False, False,\n",
       "       False, False, False,  True,  True,  True,  True,  True, False,\n",
       "        True, False,  True, False,  True,  True,  True,  True,  True,\n",
       "        True,  True,  True,  True,  True,  True,  True,  True,  True,\n",
       "        True,  True,  True, False, False, False, False, False, False,\n",
       "        True, False,  True, False,  True,  True,  True,  True,  True,\n",
       "        True,  True,  True,  True,  True,  True, False,  True,  True,\n",
       "        True,  True, False, False, False, False,  True, False, False,\n",
       "        True, False,  True,  True,  True,  True,  True,  True,  True,\n",
       "        True,  True,  True,  True,  True,  True,  True,  True,  True,\n",
       "        True, False,  True,  True,  True,  True,  True, False,  True,\n",
       "       False, False,  True,  True, False,  True,  True, False, False,\n",
       "       False, False,  True, False, False,  True,  True,  True,  True,\n",
       "        True, False,  True, False,  True,  True,  True,  True,  True,\n",
       "        True,  True,  True,  True, False, False, False, False, False,\n",
       "        True, False, False, False, False, False,  True,  True,  True,\n",
       "        True,  True,  True,  True,  True,  True,  True,  True,  True,\n",
       "        True,  True,  True, False,  True,  True,  True, False, False,\n",
       "       False,  True, False,  True, False, False, False, False, False,\n",
       "       False, False,  True,  True, False,  True,  True,  True,  True,\n",
       "        True,  True,  True,  True,  True,  True, False, False,  True,\n",
       "        True,  True,  True, False, False, False,  True, False,  True,\n",
       "       False, False, False,  True,  True,  True,  True, False,  True,\n",
       "       False,  True, False,  True,  True,  True,  True,  True,  True,\n",
       "        True,  True,  True,  True,  True,  True, False,  True, False,\n",
       "        True,  True,  True, False, False, False, False, False, False,\n",
       "        True, False, False, False,  True,  True,  True,  True,  True,\n",
       "        True,  True,  True,  True,  True,  True,  True,  True,  True,\n",
       "        True,  True,  True,  True, False, False,  True, False,  True,\n",
       "        True, False, False, False, False, False, False, False,  True,\n",
       "        True,  True,  True,  True,  True,  True,  True,  True,  True,\n",
       "        True,  True,  True, False, False,  True,  True, False,  True,\n",
       "       False,  True,  True,  True, False, False,  True,  True,  True,\n",
       "        True, False, False,  True, False,  True,  True,  True,  True,\n",
       "       False, False, False, False, False, False,  True, False, False,\n",
       "       False, False, False, False, False, False, False, False, False,\n",
       "       False,  True, False,  True,  True,  True,  True,  True, False,\n",
       "        True, False, False, False, False, False,  True,  True,  True,\n",
       "       False, False, False, False, False, False, False, False, False,\n",
       "       False, False,  True,  True,  True,  True,  True,  True,  True,\n",
       "        True,  True,  True,  True,  True, False, False, False,  True,\n",
       "        True, False, False, False, False, False, False,  True,  True,\n",
       "        True,  True, False,  True,  True,  True, False,  True,  True,\n",
       "        True])"
      ]
     },
     "execution_count": 32,
     "metadata": {},
     "output_type": "execute_result"
    }
   ],
   "source": [
    "origin == 'US'"
   ]
  },
  {
   "cell_type": "markdown",
   "metadata": {},
   "source": [
    "14.Apply your index (from above) to the `car` array. You should now only see cars that are of US origin. "
   ]
  },
  {
   "cell_type": "code",
   "execution_count": 50,
   "metadata": {},
   "outputs": [
    {
     "data": {
      "text/plain": [
       "array(['Chevrolet Chevelle Malibu', 'Buick Skylark 320',\n",
       "       'Plymouth Satellite', 'AMC Rebel SST', 'Ford Torino',\n",
       "       'Ford Galaxie 500', 'Chevrolet Impala', 'Plymouth Fury iii',\n",
       "       'Pontiac Catalina', 'AMC Ambassador DPL',\n",
       "       'Chevrolet Chevelle Concours (sw)', 'Ford Torino (sw)',\n",
       "       'Plymouth Satellite (sw)', 'AMC Rebel SST (sw)',\n",
       "       'Dodge Challenger SE', \"Plymouth 'Cuda 340\",\n",
       "       'Ford Mustang Boss 302', 'Chevrolet Monte Carlo',\n",
       "       'Buick Estate Wagon (sw)', 'Plymouth Duster', 'AMC Hornet',\n",
       "       'Ford Maverick', 'AMC Gremlin', 'Ford F250', 'Chevy C20',\n",
       "       'Dodge D200', 'Hi 1200D', 'Chevrolet Vega 2300', 'Ford Pinto',\n",
       "       'AMC Gremlin', 'Plymouth Satellite Custom',\n",
       "       'Chevrolet Chevelle Malibu', 'Ford Torino 500', 'AMC Matador',\n",
       "       'Chevrolet Impala', 'Pontiac Catalina Brougham',\n",
       "       'Ford Galaxie 500', 'Plymouth Fury iii', 'Dodge Monaco (sw)',\n",
       "       'Ford Country Squire (sw)', 'Pontiac Safari (sw)',\n",
       "       'AMC Hornet Sportabout (sw)', 'Chevrolet Vega (sw)',\n",
       "       'Pontiac Firebird', 'Ford Mustang', 'Mercury Capri 2000',\n",
       "       'Plymouth Cricket', 'Dodge Colt Hardtop', 'Chevrolet Vega',\n",
       "       'Ford Pinto Runabout', 'Chevrolet Impala', 'Pontiac Catalina',\n",
       "       'Plymouth Fury III', 'Ford Galaxie 500', 'AMC Ambassador SST',\n",
       "       'Mercury Marquis', 'Buick LeSabre Custom',\n",
       "       'Oldsmobile Delta 88 Royale', 'Chrysler Newport Royal',\n",
       "       'AMC Matador (sw)', 'Chevrolet Chevelle Concours (sw)',\n",
       "       'Ford Gran Torino (sw)', 'Plymouth Satellite Custom (sw)',\n",
       "       'Ford Pinto (sw)', 'Dodge Colt (sw)', 'Buick Century 350',\n",
       "       'AMC Matador', 'Chevrolet Malibu', 'Ford Gran Torino',\n",
       "       'Dodge Coronet Custom', 'Mercury Marquis Brougham',\n",
       "       'Chevrolet Caprice Classic', 'Ford LTD',\n",
       "       'Plymouth Fury Gran Sedan', 'Chrysler New Yorker Brougham',\n",
       "       'Buick Electra 225 Custom', 'AMC Ambassador Brougham',\n",
       "       'Plymouth Valiant', 'Chevrolet Nova Custom', 'AMC Hornet',\n",
       "       'Ford Maverick', 'Plymouth Duster', 'Chevrolet Impala',\n",
       "       'Ford Country', 'Plymouth Custom Suburb',\n",
       "       'Oldsmobile Vista Cruiser', 'AMC Gremlin', 'Chevrolet Vega',\n",
       "       'Ford Pinto', 'Mercury Capri v6', 'Chevrolet Monte Carlo S',\n",
       "       'Pontiac Grand Prix', 'Dodge Dart Custom', 'Oldsmobile Omega',\n",
       "       'Plymouth Duster', 'Ford Maverick', 'AMC Hornet', 'Chevrolet Nova',\n",
       "       'Ford Pinto', 'Chevrolet Vega',\n",
       "       'Chevrolet Chevelle Malibu Classic', 'AMC Matador',\n",
       "       'Plymouth Satellite Sebring', 'Ford Gran Torino',\n",
       "       'Buick Century Luxus (sw)', 'Dodge Coronet Custom (sw)',\n",
       "       'Ford Gran Torino (sw)', 'AMC Matador (sw)', 'Dodge Colt',\n",
       "       'Plymouth Valiant Custom', 'Chevrolet Nova', 'Mercury Monarch',\n",
       "       'Ford Maverick', 'Pontiac Catalina', 'Chevrolet Bel Air',\n",
       "       'Plymouth Grand Fury', 'Ford LTD', 'Buick Century',\n",
       "       'Chevrolete Chevelle Malibu', 'AMC Matador', 'Plymouth Fury',\n",
       "       'Buick Skyhawk', 'Chevrolet Monza 2+2', 'Ford Mustang II',\n",
       "       'Ford Pinto', 'AMC Gremlin', 'Pontiac Astro', 'Ford Pinto',\n",
       "       'AMC Pacer', 'Capri ii', 'Dodge Colt',\n",
       "       'Chevrolet Chevelle Malibu Classic', 'Dodge Coronet Brougham',\n",
       "       'AMC Matador', 'Ford Gran Torino', 'Plymouth Valiant',\n",
       "       'Chevrolet Nova', 'Ford Maverick', 'AMC Hornet',\n",
       "       'Chevrolet Chevette', 'Chevrolet Woody', 'Dodge Aspen SE',\n",
       "       'Ford Grenada ghia', 'Pontiac Ventura SJ', 'AMC Pacer d/l',\n",
       "       'Ford Pinto', 'Plymouth Volare Premier v8', 'Cadillac Seville',\n",
       "       'Chevrolet C10', 'Ford F108', 'Dodge D100',\n",
       "       'Buick Opel Isuzu Deluxe', 'Plymouth Arrow GS',\n",
       "       'Chevrolet Caprice Classic', 'Oldsmobile Cutlass Supreme',\n",
       "       'Dodge Monaco Brougham', 'Mercury Cougar Brougham',\n",
       "       'Chevrolet Concours', 'Buick Skylark', 'Plymouth Volare Custom',\n",
       "       'Ford Grenada', 'Pontiac Grand Prix LJ',\n",
       "       'Chevrolet Monte Carlo Landau', 'Chrysler Cordoba',\n",
       "       'Ford Thunderbird', 'Pontiac Sunbird Coupe', 'Ford Mustang II 2+2',\n",
       "       'Chevrolet Chevette', 'Dodge Colt m/m', 'Ford Fiesta',\n",
       "       'Oldsmobile Cutlass Salon Brougham', 'Dodge Diplomat',\n",
       "       'Mercury Monarch ghia', 'Pontiac Phoenix LJ', 'Chevrolet Malibu',\n",
       "       'Ford Fairmont (auto)', 'Ford Fairmont (man)', 'Plymouth Volare',\n",
       "       'AMC Concord', 'Buick Century Special', 'Mercury Zephyr',\n",
       "       'Dodge Aspen', 'AMC Concord d/l', 'Chevrolet Monte Carlo Landau',\n",
       "       'Buick Regal Sport Coupe (turbo)', 'Ford Futura',\n",
       "       'Dodge Magnum XE', 'Chevrolet Chevette', 'Dodge Omni',\n",
       "       'Plymouth Sapporo', 'Oldsmobile Starfire SX', 'Pontiac Lemans V6',\n",
       "       'Mercury Zephyr 6', 'Ford Fairmont 4', 'AMC Concord DL 6',\n",
       "       'Dodge Aspen 6', 'Chevrolet Caprice Classic', 'Ford LTD Landau',\n",
       "       'Mercury Grand Marquis', 'Dodge St. Regis',\n",
       "       'Buick Estate Wagon (sw)', 'Ford Country Squire (sw)',\n",
       "       'Chevrolet Malibu Classic (sw)',\n",
       "       'Chrysler Lebaron Town @ Country (sw)',\n",
       "       'Dodge Colt Hatchback Custom', 'AMC Spirit DL',\n",
       "       'Cadillac Eldorado', 'Oldsmobile Cutlass Salon Brougham',\n",
       "       'Plymouth Horizon', 'Plymouth Horizon TC3',\n",
       "       'Buick Skylark Limited', 'Chevrolet Citation',\n",
       "       'Oldsmobile Omega Brougham', 'Pontiac Phoenix',\n",
       "       'Chevrolet Chevette', 'Chevrolet Citation', 'Ford Fairmont',\n",
       "       'AMC Concord', 'Dodge Aspen', 'Dodge Colt', 'Ford Mustang Cobra',\n",
       "       'Plymouth Reliant', 'Buick Skylark', 'Dodge Aries Wagon (sw)',\n",
       "       'Chevrolet Citation', 'Plymouth Reliant', 'Plymouth Champ',\n",
       "       'Plymouth Horizon 4', 'Ford Escort 4W', 'Ford Escort 2H',\n",
       "       'Buick Century', 'Oldsmobile Cutlass LS', 'Ford Grenada gl',\n",
       "       'Chrysler Lebaron Salon', 'Chevrolet Cavalier',\n",
       "       'Chevrolet Cavalier Wagon', 'Chevrolet Cavalier 2-door',\n",
       "       'Pontiac J2000 SE Hatchback', 'Dodge Aries SE', 'Pontiac Phoenix',\n",
       "       'Ford Fairmont Futura', 'AMC Concord DL', 'Plymouth Horizon Miser',\n",
       "       'Mercury Lynx l', 'Buick Century Limited',\n",
       "       'Oldsmobile Cutlass Ciera (diesel)', 'Chrysler Lebaron Medallion',\n",
       "       'Ford Grenada l', 'Dodge Charger 2.2', 'Chevrolet Camaro',\n",
       "       'Ford Mustang GL', 'Dodge Rampage', 'Ford Ranger', 'Chevy S-10'],\n",
       "      dtype=object)"
      ]
     },
     "execution_count": 50,
     "metadata": {},
     "output_type": "execute_result"
    }
   ],
   "source": [
    "car[origin == 'US']"
   ]
  },
  {
   "cell_type": "markdown",
   "metadata": {},
   "source": [
    "15.Why might you prefer an `np.array()` over a Python `list`? And when is a Python `list` preferred? "
   ]
  },
  {
   "cell_type": "code",
   "execution_count": 6,
   "metadata": {},
   "outputs": [],
   "source": [
    "#np.array() is faster than list and NumPy have optimized functions such as linear algebra operations built in and it doesn't take much space.\n",
    "#list take all types of data types like strings , integers etc. if programmer need all types data then list is preferred "
   ]
  },
  {
   "cell_type": "markdown",
   "metadata": {},
   "source": [
    "16.What is an identity matrix? \n",
    "Create an identiy matrix of size 5 using an np method. "
   ]
  },
  {
   "cell_type": "code",
   "execution_count": 5,
   "metadata": {},
   "outputs": [
    {
     "data": {
      "text/plain": [
       "array([[1., 0., 0., 0., 0.],\n",
       "       [0., 1., 0., 0., 0.],\n",
       "       [0., 0., 1., 0., 0.],\n",
       "       [0., 0., 0., 1., 0.],\n",
       "       [0., 0., 0., 0., 1.]])"
      ]
     },
     "execution_count": 5,
     "metadata": {},
     "output_type": "execute_result"
    }
   ],
   "source": [
    "#identity matrix is a square array with ones on the main diagonal\n",
    "np.identity(5)"
   ]
  },
  {
   "cell_type": "markdown",
   "metadata": {},
   "source": [
    "17.Transpose the following array. "
   ]
  },
  {
   "cell_type": "code",
   "execution_count": 12,
   "metadata": {},
   "outputs": [
    {
     "data": {
      "text/plain": [
       "array([[1, 4, 7],\n",
       "       [2, 5, 8],\n",
       "       [3, 6, 9]])"
      ]
     },
     "execution_count": 12,
     "metadata": {},
     "output_type": "execute_result"
    }
   ],
   "source": [
    "transpose_me = np.array([[1,2,3],\n",
    "                      [4,5,6],\n",
    "                      [7,8,9]])\n",
    "np.transpose(transpose_me)"
   ]
  },
  {
   "cell_type": "markdown",
   "metadata": {},
   "source": [
    "**The remaining questions are OPTIONAL**: The readings did not address all of these so you may have to use some \"Google-Fu\". "
   ]
  },
  {
   "cell_type": "markdown",
   "metadata": {},
   "source": [
    "1.Why does this multiplication operation fail? "
   ]
  },
  {
   "cell_type": "code",
   "execution_count": null,
   "metadata": {},
   "outputs": [],
   "source": [
    "arr1 = np.array([[1,2,3],\n",
    "                      [4,5,6],\n",
    "                      [7,8,9]])\n",
    "arr2 = np.array([[1,2,3],\n",
    "                      [4,5,6]])\n",
    "\n",
    "arr1 * arr2 \n"
   ]
  },
  {
   "cell_type": "code",
   "execution_count": null,
   "metadata": {},
   "outputs": [],
   "source": []
  },
  {
   "cell_type": "markdown",
   "metadata": {},
   "source": [
    "Use numpy to answer the following questions. "
   ]
  },
  {
   "cell_type": "markdown",
   "metadata": {},
   "source": [
    "2.What is the average horsepower for `Europe` cars? (Hint: create boolean index of 'US' apply it to horsepower and perform the calculation.)"
   ]
  },
  {
   "cell_type": "code",
   "execution_count": null,
   "metadata": {},
   "outputs": [],
   "source": []
  },
  {
   "cell_type": "code",
   "execution_count": null,
   "metadata": {},
   "outputs": [],
   "source": []
  },
  {
   "cell_type": "markdown",
   "metadata": {},
   "source": [
    "3.On average are Japanse cars more fuel efficient than US cars? "
   ]
  },
  {
   "cell_type": "code",
   "execution_count": null,
   "metadata": {},
   "outputs": [],
   "source": []
  },
  {
   "cell_type": "markdown",
   "metadata": {},
   "source": [
    "4.What is the correlation coefficient of `mpg` and `weight`? What is a correlaton coefficient?"
   ]
  },
  {
   "cell_type": "code",
   "execution_count": null,
   "metadata": {},
   "outputs": [],
   "source": []
  }
 ],
 "metadata": {
  "kernelspec": {
   "display_name": "Python 3",
   "language": "python",
   "name": "python3"
  },
  "language_info": {
   "codemirror_mode": {
    "name": "ipython",
    "version": 3
   },
   "file_extension": ".py",
   "mimetype": "text/x-python",
   "name": "python",
   "nbconvert_exporter": "python",
   "pygments_lexer": "ipython3",
   "version": "3.8.8"
  }
 },
 "nbformat": 4,
 "nbformat_minor": 4
}
